{
 "cells": [
  {
   "cell_type": "code",
   "execution_count": 37,
   "id": "a73a9e56",
   "metadata": {},
   "outputs": [
    {
     "name": "stderr",
     "output_type": "stream",
     "text": [
      "Reusing dataset imdb (C:\\Users\\I0466996\\.cache\\huggingface\\datasets\\imdb\\plain_text\\1.0.0\\2fdd8b9bcadd6e7055e742a706876ba43f19faee861df134affd7a3f60fc38a1)\n"
     ]
    },
    {
     "data": {
      "application/vnd.jupyter.widget-view+json": {
       "model_id": "dece9fe9ab9944828a59912c0b49575c",
       "version_major": 2,
       "version_minor": 0
      },
      "text/plain": [
       "  0%|          | 0/3 [00:00<?, ?it/s]"
      ]
     },
     "metadata": {},
     "output_type": "display_data"
    }
   ],
   "source": [
    "from datasets import load_dataset, load_metric\n",
    "\n",
    "raw_datasets = load_dataset(\"imdb\")"
   ]
  },
  {
   "cell_type": "code",
   "execution_count": 38,
   "id": "27bf6ca6",
   "metadata": {},
   "outputs": [
    {
     "name": "stderr",
     "output_type": "stream",
     "text": [
      "Loading cached shuffled indices for dataset at C:\\Users\\I0466996\\.cache\\huggingface\\datasets\\imdb\\plain_text\\1.0.0\\2fdd8b9bcadd6e7055e742a706876ba43f19faee861df134affd7a3f60fc38a1\\cache-f700cd6f222bd13f.arrow\n",
      "Loading cached shuffled indices for dataset at C:\\Users\\I0466996\\.cache\\huggingface\\datasets\\imdb\\plain_text\\1.0.0\\2fdd8b9bcadd6e7055e742a706876ba43f19faee861df134affd7a3f60fc38a1\\cache-b23cfeb68a931a8d.arrow\n"
     ]
    },
    {
     "data": {
      "text/plain": [
       "DatasetDict({\n",
       "    train: Dataset({\n",
       "        features: ['text', 'label'],\n",
       "        num_rows: 25000\n",
       "    })\n",
       "    test: Dataset({\n",
       "        features: ['text', 'label'],\n",
       "        num_rows: 25000\n",
       "    })\n",
       "})"
      ]
     },
     "execution_count": 38,
     "metadata": {},
     "output_type": "execute_result"
    }
   ],
   "source": [
    "del raw_datasets[\"unsupervised\"]\n",
    "raw_datasets = raw_datasets.shuffle(seed=42)\n",
    "raw_datasets"
   ]
  },
  {
   "cell_type": "code",
   "execution_count": 39,
   "id": "1f4c5438",
   "metadata": {},
   "outputs": [
    {
     "data": {
      "text/plain": [
       "['This movie is a great. The plot is very true to the book which is a classic written by Mark Twain. The movie starts of with a scene where Hank sings a song with a bunch of kids called \"when you stub your toe on the moon\" It reminds me of Sinatra\\'s song High Hopes, it is fun and inspirational. The Music is great throughout and my favorite song is sung by the King, Hank (bing Crosby) and Sir \"Saggy\" Sagamore. OVerall a great family movie or even a great Date movie. This is a movie you can watch over and over again. The princess played by Rhonda Fleming is gorgeous. I love this movie!! If you liked Danny Kaye in the Court Jester then you will definitely like this movie.']"
      ]
     },
     "execution_count": 39,
     "metadata": {},
     "output_type": "execute_result"
    }
   ],
   "source": [
    "raw_datasets[\"train\"][\"text\"][1:2]"
   ]
  },
  {
   "cell_type": "code",
   "execution_count": 40,
   "id": "adfd4665",
   "metadata": {},
   "outputs": [
    {
     "data": {
      "text/plain": [
       "25000"
      ]
     },
     "execution_count": 40,
     "metadata": {},
     "output_type": "execute_result"
    }
   ],
   "source": [
    "raw_datasets[\"train\"].shape[0]"
   ]
  },
  {
   "cell_type": "code",
   "execution_count": 41,
   "id": "3e982ba7",
   "metadata": {},
   "outputs": [],
   "source": [
    "num_clients = 3\n",
    "trainset = raw_datasets[\"train\"]"
   ]
  },
  {
   "cell_type": "code",
   "execution_count": 42,
   "id": "c93c27a8",
   "metadata": {},
   "outputs": [],
   "source": [
    "part_num = int(trainset.data.shape[0] / num_clients)\n",
    "last_n = trainset.data.shape[0] - (part_num*2)"
   ]
  },
  {
   "cell_type": "code",
   "execution_count": 43,
   "id": "b51c64c0",
   "metadata": {},
   "outputs": [],
   "source": [
    "split_n = [part_num] * (num_clients-1)\n",
    "split_n.append(last_n)"
   ]
  },
  {
   "cell_type": "code",
   "execution_count": 44,
   "id": "a0bdfe5b",
   "metadata": {},
   "outputs": [],
   "source": [
    "import torch.utils.data\n",
    "\n",
    "traindata_split = torch.utils.data.random_split(trainset, split_n)"
   ]
  },
  {
   "cell_type": "code",
   "execution_count": 45,
   "id": "55e9baea",
   "metadata": {},
   "outputs": [
    {
     "name": "stdout",
     "output_type": "stream",
     "text": [
      "==> saving part 1 out of 3\n",
      "==> saving part 2 out of 3\n",
      "==> saving part 3 out of 3\n"
     ]
    }
   ],
   "source": [
    "from pathlib import Path\n",
    "\n",
    "path = Path('./split_indices/').expanduser()\n",
    "path.mkdir(parents=True, exist_ok=True)\n",
    "\n",
    "prefix = \"split_part\"\n",
    "\n",
    "for i in range(len(traindata_split)):\n",
    "    print(\"==> saving part \" + str(i+1) + \" out of\", len(traindata_split))\n",
    "    torch.save(traindata_split[i], path/(prefix+str(i)+'.pt'))"
   ]
  },
  {
   "cell_type": "code",
   "execution_count": 46,
   "id": "aa9422c6",
   "metadata": {},
   "outputs": [
    {
     "name": "stdout",
     "output_type": "stream",
     "text": [
      "==> asserting part 0 correctness.\n",
      "==> assert OK.\n"
     ]
    }
   ],
   "source": [
    "import numpy as np\n",
    "\n",
    "print(\"==> asserting part 0 correctness.\")\n",
    "check_tensor = torch.load(path/(prefix+str(0)+'.pt'))\n",
    "dataset1 = torch.utils.data.dataset.Subset(trainset, check_tensor.indices)\n",
    "dataset2 = torch.utils.data.dataset.Subset(trainset, traindata_split[0].indices)\n",
    "if all(np.equal(dataset1.indices, dataset2.indices)):\n",
    "    print(\"==> assert OK.\")\n",
    "else:\n",
    "    print(\"==> assert is NOT OK.\")"
   ]
  },
  {
   "cell_type": "code",
   "execution_count": null,
   "id": "51bbc8cb",
   "metadata": {},
   "outputs": [],
   "source": []
  }
 ],
 "metadata": {
  "kernelspec": {
   "display_name": "Python 3 (ipykernel)",
   "language": "python",
   "name": "python3"
  },
  "language_info": {
   "codemirror_mode": {
    "name": "ipython",
    "version": 3
   },
   "file_extension": ".py",
   "mimetype": "text/x-python",
   "name": "python",
   "nbconvert_exporter": "python",
   "pygments_lexer": "ipython3",
   "version": "3.7.0"
  }
 },
 "nbformat": 4,
 "nbformat_minor": 5
}
